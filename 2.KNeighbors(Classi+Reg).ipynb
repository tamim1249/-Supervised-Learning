{
 "cells": [
  {
   "cell_type": "code",
   "execution_count": 1,
   "id": "b992249f-c9ef-4b56-bece-0f2a69e85b3d",
   "metadata": {},
   "outputs": [],
   "source": [
    "#Tamim Mahmud from Daffodil International University\n",
    "#13/07/2025\n",
    "#Day 18\n",
    "#This is Revision Part"
   ]
  },
  {
   "cell_type": "code",
   "execution_count": 7,
   "id": "1cfe1ab4-0e94-4941-9e27-b974be540631",
   "metadata": {},
   "outputs": [
    {
     "data": {
      "text/plain": [
       "array([1])"
      ]
     },
     "execution_count": 7,
     "metadata": {},
     "output_type": "execute_result"
    }
   ],
   "source": [
    "from sklearn.neighbors import KNeighborsClassifier\n",
    "\n",
    "\n",
    "# X = ফুলের মাপ (petal length, width)\n",
    "X = [[1, 1], [2, 2], [3, 3], [6, 6], [7, 7], [8, 8]]\n",
    "# y = জাত (0 = ছোট জাত, 1 = বড় জাত)\n",
    "y = [0, 0, 0, 1, 1, 1]\n",
    "\n",
    "model=KNeighborsClassifier()\n",
    "model.fit(X,y)\n",
    "model.predict([[5,5]])\n"
   ]
  },
  {
   "cell_type": "code",
   "execution_count": 10,
   "id": "b1c61270-91b8-470d-a178-4110a4638a8e",
   "metadata": {},
   "outputs": [
    {
     "data": {
      "text/plain": [
       "array([1])"
      ]
     },
     "execution_count": 10,
     "metadata": {},
     "output_type": "execute_result"
    }
   ],
   "source": [
    "import numpy as np\n",
    "X = np.array([\n",
    "    [150, 50], [160, 55], [170, 60],  # Class 0 (shorter)\n",
    "    [180, 75], [190, 80], [200, 90]   # Class 1 (taller)\n",
    "])\n",
    "\n",
    "# Labels: 0 = Short person, 1 = Tall person\n",
    "y = np.array([0, 0, 0, 1, 1, 1])\n",
    "\n",
    "model=KNeighborsClassifier()\n",
    "model.fit(X,y)\n",
    "model.predict([[198,56]])"
   ]
  },
  {
   "cell_type": "code",
   "execution_count": 15,
   "id": "5510ddbc-df7e-45e5-948a-c182ef32d9db",
   "metadata": {},
   "outputs": [
    {
     "data": {
      "image/png": "[encoded data removed]",
      "text/plain": [
       "<Figure size 640x480 with 1 Axes>"
      ]
     },
     "metadata": {},
     "output_type": "display_data"
    }
   ],
   "source": [
    "import matplotlib.pyplot as plt\n",
    "for i in range(len(X)):\n",
    "    color='red' if y[i]==0 else 'blue'\n",
    "    plt.scatter(X[i][0],X[i][1],color=color)\n",
    "\n",
    "plt.scatter(175,88,color='green',marker='*',s=200,label='new point')\n",
    "plt.title(\"KNN classification\")\n",
    "plt.legend()\n",
    "plt.show()"
   ]
  },
  {
   "cell_type": "code",
   "execution_count": 27,
   "id": "b27fe4b1-4cbc-4d57-9c96-03ea8d141a9c",
   "metadata": {},
   "outputs": [
    {
     "name": "stdout",
     "output_type": "stream",
     "text": [
      "Accuracy: 0.9473684210526315\n",
      "Classification Report:               precision    recall  f1-score   support\n",
      "\n",
      "           0       0.93      0.93      0.93        43\n",
      "           1       0.96      0.96      0.96        71\n",
      "\n",
      "    accuracy                           0.95       114\n",
      "   macro avg       0.94      0.94      0.94       114\n",
      "weighted avg       0.95      0.95      0.95       114\n",
      "\n"
     ]
    }
   ],
   "source": [
    "from sklearn.datasets import load_breast_cancer\n",
    "import pandas as pd\n",
    "from sklearn.model_selection import train_test_split\n",
    "from sklearn.neighbors import KNeighborsClassifier\n",
    "from sklearn.preprocessing import StandardScaler\n",
    "from sklearn.metrics import accuracy_score,classification_report\n",
    "\n",
    "data=load_breast_cancer()\n",
    "\n",
    "X=data.data\n",
    "y=data.target\n",
    "\n",
    "X_train,X_test,y_train,y_test=train_test_split(X,y,test_size=0.2,random_state=42)\n",
    "\n",
    "\n",
    "scaler=StandardScaler()\n",
    "X_train=scaler.fit_transform(X_train)\n",
    "X_test=scaler.transform(X_test)\n",
    "\n",
    "model=KNeighborsClassifier(n_neighbors=3)\n",
    "model.fit(X_train,y_train)\n",
    "\n",
    "y_pred=model.predict(X_test)\n",
    "print(\"Accuracy:\",accuracy_score(y_test,y_pred))\n",
    "print(\"Classification Report:\",classification_report(y_test,y_pred))"
   ]
  },
  {
   "cell_type": "markdown",
   "id": "8191a66f-09c8-4075-8127-f14be43965f3",
   "metadata": {},
   "source": [
    " ✅ Accuracy: 0.9473684210526315 ≈ 94.74%\n",
    "\n",
    "এই মানে:\n",
    "\n",
    "    তোমার মডেল 114 জন টেস্ট ডেটার মধ্যে প্রায় 95% মানুষের ক্যান্সার ধরতে ঠিকভাবে পারছে (benign vs malignant)।"
   ]
  },
  {
   "cell_type": "markdown",
   "id": "dda51bf5-b82b-4e7c-b3f3-7058c50bbfa5",
   "metadata": {},
   "source": [
    "✅ ****Class 0 → Malignant (cancer detected)***\n",
    "\n",
    "precision: 0.93 → মডেল যখন বলছে \"tumor = malignant\", তখন 93% ক্ষেত্রেই সঠিক বলেছে।\n",
    "recall:    0.93 → সব malignant কেসের মধ্যে 93% ঠিকভাবে শনাক্ত করেছে।\n",
    "\n",
    "f1-score:  0.93 → precision ও recall এর average।\n",
    "\n",
    "support:   43   → total 43 জনের malignant ছিল।\n"
   ]
  },
  {
   "cell_type": "markdown",
   "id": "090d6a21-b33c-442c-95b0-4914cf10cb36",
   "metadata": {},
   "source": [
    " ✅ **Class 1 → Benign (no cancer)\n",
    " \n",
    "\n",
    "precision: 0.96 → মডেল যখন বলছে \"tumor = benign\", তখন 96% ক্ষেত্রেই সঠিক বলেছে।\n",
    "\n",
    "recall:    0.96 → সব benign কেসের মধ্যে 96% ঠিকভাবে শনাক্ত করেছে।\n",
    "\n",
    "f1-score:  0.96 → precision ও recall এর average।\n",
    "\n",
    "support:   71   → total 71 জনের benign ছিল।\n"
   ]
  },
  {
   "cell_type": "markdown",
   "id": "5f381042-bd5a-4e81-b025-5204bca9ec92",
   "metadata": {},
   "source": [
    "✅ Macro Avg:\n",
    "\n",
    "\n",
    "precision: 0.94 → দুই ক্লাসের precision এর average।\n",
    "\n",
    "recall:    0.94 → দুই ক্লাসের recall এর average।\n",
    "\n",
    "f1-score:  0.94 → দুই ক্লাসের f1-score এর average।\n"
   ]
  },
  {
   "cell_type": "markdown",
   "id": "55aad2c4-ac64-46e1-8444-38c59f81958b",
   "metadata": {},
   "source": [
    "✅ Weighted Avg:\n",
    "\n",
    "\n",
    "precision: 0.95 → সব ক্লাসের precision weighted average (support অনুযায়ী)।\n",
    "\n",
    "\n",
    "recall:    0.95\n",
    "\n",
    "f1-score:  0.95\n",
    "\n",
    "\n",
    "    Weighted avg ক্লাসের instance সংখ্যা (support) অনুযায়ী average নেয়। এখানে class 1 বেশি ছিল (71 জন), তাই ওটার impact বেশি।"
   ]
  },
  {
   "cell_type": "code",
   "execution_count": 30,
   "id": "abe09470-d1dd-446a-b458-8ddd99a2ec97",
   "metadata": {},
   "outputs": [
    {
     "data": {
      "image/png": "[encoded data removed]",
      "text/plain": [
       "<Figure size 640x480 with 2 Axes>"
      ]
     },
     "metadata": {},
     "output_type": "display_data"
    }
   ],
   "source": [
    "#confusion matrix for visualization\n",
    "from sklearn.metrics import confusion_matrix\n",
    "import seaborn as sns\n",
    "cm = confusion_matrix(y_test, y_pred)\n",
    "sns.heatmap(cm, annot=True, fmt='d', cmap='Reds', xticklabels=data.target_names, yticklabels=data.target_names)\n",
    "plt.xlabel(\"Predicted\")\n",
    "plt.ylabel(\"Actual\")\n",
    "plt.title(\"Confusion Matrix - Breast Cancer\")\n",
    "plt.show()"
   ]
  },
  {
   "cell_type": "code",
   "execution_count": 31,
   "id": "f8d95f3d-6606-4989-92b0-10aac8b8e534",
   "metadata": {},
   "outputs": [],
   "source": [
    "#Now Kneighbors Regression"
   ]
  },
  {
   "cell_type": "code",
   "execution_count": 44,
   "id": "a3a1d236-d0c9-4b4a-826e-5ebd0a31022c",
   "metadata": {},
   "outputs": [
    {
     "name": "stdout",
     "output_type": "stream",
     "text": [
      "[122.]\n"
     ]
    }
   ],
   "source": [
    "from sklearn.neighbors import KNeighborsRegressor\n",
    "from sklearn.metrics import mean_squared_error\n",
    "# X = বয়স\n",
    "X = [[5], [6], [7], [8], [9], [10]]\n",
    "# y = উচ্চতা\n",
    "y = [105, 115, 120, 130, 140, 150]\n",
    "\n",
    "model=KNeighborsRegressor()\n",
    "model.fit(X,y)\n",
    "y_pred=model.predict([[4]])\n",
    "print(y_pred)\n"
   ]
  },
  {
   "cell_type": "code",
   "execution_count": 48,
   "id": "9907384d-2316-40a5-ab0d-29c374cb0093",
   "metadata": {},
   "outputs": [
    {
     "name": "stdout",
     "output_type": "stream",
     "text": [
      "MSE: 0.4324216146043236\n",
      "r2 score: 0.6700101862970989\n"
     ]
    }
   ],
   "source": [
    "from sklearn.datasets import fetch_california_housing\n",
    "from sklearn.model_selection import train_test_split\n",
    "from sklearn.preprocessing import StandardScaler\n",
    "from sklearn.metrics import mean_squared_error,r2_score\n",
    "from sklearn.neighbors import KNeighborsRegressor\n",
    "\n",
    "data=fetch_california_housing()\n",
    "X=data.data\n",
    "y=data.target\n",
    "\n",
    "X_train,X_test,y_train,y_test=train_test_split(X,y,test_size=0.2,random_state=42)\n",
    "\n",
    "scaler=StandardScaler()\n",
    "X_train=scaler.fit_transform(X_train)\n",
    "X_test=scaler.transform(X_test)\n",
    "\n",
    "model=KNeighborsRegressor()\n",
    "model.fit(X_train,y_train)\n",
    "y_pred=model.predict(X_test)\n",
    "\n",
    "print(\"MSE:\",mean_squared_error(y_test,y_pred))\n",
    "print(\"r2 score:\",r2_score(y_test,y_pred))\n"
   ]
  },
  {
   "cell_type": "markdown",
   "id": "1de9eff4-47fe-4503-8925-310228b9545f",
   "metadata": {},
   "source": [
    "✳️MSE হিসাব করে predicted value ও actual value-এর পার্থক্যের স্কোয়ারের গড়।\n",
    "\n",
    "\n",
    "মান যত কম হবে, তত ভালো।\n",
    "\n",
    "\n",
    "মানে, predicted house price গুলো actual price থেকে কত দূরে আছে।"
   ]
  },
  {
   "cell_type": "markdown",
   "id": "aca2bb10-d6f4-4a39-bf4f-ed17d2e5ef9c",
   "metadata": {},
   "source": []
  }
 ],
 "metadata": {
  "kernelspec": {
   "display_name": "Python 3 (ipykernel)",
   "language": "python",
   "name": "python3"
  },
  "language_info": {
   "codemirror_mode": {
    "name": "ipython",
    "version": 3
   },
   "file_extension": ".py",
   "mimetype": "text/x-python",
   "name": "python",
   "nbconvert_exporter": "python",
   "pygments_lexer": "ipython3",
   "version": "3.12.7"
  }
 },
 "nbformat": 4,
 "nbformat_minor": 5
}
