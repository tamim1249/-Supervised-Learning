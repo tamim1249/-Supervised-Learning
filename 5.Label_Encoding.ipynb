{
 "cells": [
  {
   "cell_type": "code",
   "execution_count": 1,
   "id": "108768d6-a663-4f01-ba1b-c5cff595a475",
   "metadata": {},
   "outputs": [],
   "source": [
    "#Tamim Mahmud from Daffodil International University\n",
    "#13/07/2025\n",
    "#Day 19\n",
    "#Label Encoding revised topick"
   ]
  },
  {
   "cell_type": "markdown",
   "id": "ff19f2c2-6797-425c-981a-f12da582ccfd",
   "metadata": {},
   "source": [
    "🏷️ 🔠 Label Encoding কী?\n",
    "Label Encoding মানে হচ্ছে —\n",
    "লেখা ক্যাটাগরিকাল ডেটাকে সংখ্যায় রূপান্তর করা।\n",
    "\n",
    "🧠 কারণ?\n",
    "মেশিন লার্নিং মডেল শুধুমাত্র সংখ্যা বোঝে, লেখা না! তাই আমরা ক্যাটাগরির নামগুলোকে নাম্বারে রূপান্তর করি।"
   ]
  },
  {
   "cell_type": "markdown",
   "id": "08ab1c63-4628-45ba-b69d-29ad66f462ca",
   "metadata": {},
   "source": [
    "⚠️ একটা গুরুত্বপূর্ণ বিষয়:\n",
    "Label Encoding এ value-এর মধ্যে অর্ডার থাকে (মানে 0 < 1 < 2)।\n",
    "কিন্তু বাস্তবে তো Red > Green বা Green < Blue না — সবগুলো সমান।\n",
    "তাই, যদি অর্ডার না থাকে, তাহলে One-Hot Encoding ভালো বিকল্প।\n",
    "\n"
   ]
  },
  {
   "cell_type": "code",
   "execution_count": 2,
   "id": "6fe1fa09-d4a3-4c41-94ae-9ccba2996e00",
   "metadata": {},
   "outputs": [
    {
     "name": "stdout",
     "output_type": "stream",
     "text": [
      "[1 0 0 1 2]\n"
     ]
    }
   ],
   "source": [
    "from sklearn.preprocessing import LabelEncoder\n",
    "\n",
    "gender=['Male','Female','Female','Male','an']\n",
    "\n",
    "le=LabelEncoder()\n",
    "\n",
    "encoded_data=le.fit_transform(gender)\n",
    "print(encoded_data)"
   ]
  },
  {
   "cell_type": "markdown",
   "id": "00a4931e-b7c8-4224-b684-1c0a52b58fe7",
   "metadata": {},
   "source": [
    "✅ কখন Label Encoding ব্যবহার করব?\n",
    "\n",
    "\n",
    "Situation\tUse Label Encoding?\n",
    "\n",
    "Binary Category (Yes/No)\t✅ হ্যাঁ\n",
    "\n",
    "Ordinal Category (Small/Big)\t✅ হ্যাঁ\n",
    "\n",
    "Nominal (Random Class)\t⚠️ না → One Hot Encoding ভালো"
   ]
  },
  {
   "cell_type": "code",
   "execution_count": 7,
   "id": "c87b9d7b-e6ea-4a36-b606-04a0653d5218",
   "metadata": {},
   "outputs": [
    {
     "name": "stdout",
     "output_type": "stream",
     "text": [
      "     Name  Gender Sentiment  Gender Encoder  Sentiment Encoded\n",
      "0  Arafat    Male  Positive               1                  2\n",
      "1  Nusrat  Female  Negative               0                  0\n",
      "2    Rafi    Male   Neutral               1                  1\n",
      "3    Mitu  Female  Positive               0                  2\n"
     ]
    }
   ],
   "source": [
    "import pandas as pd\n",
    "from sklearn.preprocessing import LabelEncoder\n",
    "\n",
    "df = pd.DataFrame({\n",
    "    'Name': ['Arafat', 'Nusrat', 'Rafi', 'Mitu'],\n",
    "    'Gender': ['Male', 'Female', 'Male', 'Female'],\n",
    "    'Sentiment': ['Positive', 'Negative', 'Neutral', 'Positive']\n",
    "})\n",
    "le_gender=LabelEncoder()\n",
    "le_sentiment=LabelEncoder()\n",
    "\n",
    "df['Gender Encoder']=le_gender.fit_transform(df['Gender'])\n",
    "\n",
    "\n",
    "df['Sentiment Encoded']=le_sentiment.fit_transform(df['Sentiment'])\n",
    "print(df)"
   ]
  },
  {
   "cell_type": "code",
   "execution_count": 9,
   "id": "2aeee43c-4f9d-4a3d-aef1-8afcf53cedc8",
   "metadata": {},
   "outputs": [
    {
     "data": {
      "text/html": [
       "<div>\n",
       "<style scoped>\n",
       "    .dataframe tbody tr th:only-of-type {\n",
       "        vertical-align: middle;\n",
       "    }\n",
       "\n",
       "    .dataframe tbody tr th {\n",
       "        vertical-align: top;\n",
       "    }\n",
       "\n",
       "    .dataframe thead th {\n",
       "        text-align: right;\n",
       "    }\n",
       "</style>\n",
       "<table border=\"1\" class=\"dataframe\">\n",
       "  <thead>\n",
       "    <tr style=\"text-align: right;\">\n",
       "      <th></th>\n",
       "      <th>Name</th>\n",
       "      <th>Gender Encoder</th>\n",
       "      <th>Sentiment Encoded</th>\n",
       "    </tr>\n",
       "  </thead>\n",
       "  <tbody>\n",
       "    <tr>\n",
       "      <th>0</th>\n",
       "      <td>Arafat</td>\n",
       "      <td>1</td>\n",
       "      <td>2</td>\n",
       "    </tr>\n",
       "    <tr>\n",
       "      <th>1</th>\n",
       "      <td>Nusrat</td>\n",
       "      <td>0</td>\n",
       "      <td>0</td>\n",
       "    </tr>\n",
       "    <tr>\n",
       "      <th>2</th>\n",
       "      <td>Rafi</td>\n",
       "      <td>1</td>\n",
       "      <td>1</td>\n",
       "    </tr>\n",
       "    <tr>\n",
       "      <th>3</th>\n",
       "      <td>Mitu</td>\n",
       "      <td>0</td>\n",
       "      <td>2</td>\n",
       "    </tr>\n",
       "  </tbody>\n",
       "</table>\n",
       "</div>"
      ],
      "text/plain": [
       "     Name  Gender Encoder  Sentiment Encoded\n",
       "0  Arafat               1                  2\n",
       "1  Nusrat               0                  0\n",
       "2    Rafi               1                  1\n",
       "3    Mitu               0                  2"
      ]
     },
     "execution_count": 9,
     "metadata": {},
     "output_type": "execute_result"
    }
   ],
   "source": [
    "k=df.drop(['Gender','Sentiment'],axis='columns')\n",
    "k"
   ]
  },
  {
   "cell_type": "code",
   "execution_count": null,
   "id": "9d499460-3419-47bd-982f-fda91276e876",
   "metadata": {},
   "outputs": [],
   "source": []
  }
 ],
 "metadata": {
  "kernelspec": {
   "display_name": "Python 3 (ipykernel)",
   "language": "python",
   "name": "python3"
  },
  "language_info": {
   "codemirror_mode": {
    "name": "ipython",
    "version": 3
   },
   "file_extension": ".py",
   "mimetype": "text/x-python",
   "name": "python",
   "nbconvert_exporter": "python",
   "pygments_lexer": "ipython3",
   "version": "3.12.7"
  }
 },
 "nbformat": 4,
 "nbformat_minor": 5
}
